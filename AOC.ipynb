{
 "cells": [
  {
   "cell_type": "markdown",
   "metadata": {},
   "source": [
    "# DAY 1"
   ]
  },
  {
   "cell_type": "code",
   "execution_count": null,
   "metadata": {},
   "outputs": [
    {
     "name": "stdout",
     "output_type": "stream",
     "text": [
      "1341714\n",
      "27384707\n"
     ]
    }
   ],
   "source": [
    "from math import *\n",
    "\n",
    "def AOC_1():\n",
    "    with open(\"DAY1_INPUT.txt\", \"r\") as file:\n",
    "        data = file.read()\n",
    "        #print(data)\n",
    "\n",
    "    liste = data.split(\"\\n\")\n",
    "    liste1 = []\n",
    "    liste2 = []\n",
    "    for i in liste:\n",
    "        liste_tmp = i.split(\" \")\n",
    "        liste1.append(int(liste_tmp[0]))\n",
    "        liste2.append(int(liste_tmp[1]))\n",
    "\n",
    "    liste1 = sorted(liste1)\n",
    "    liste2 = sorted(liste2)\n",
    "\n",
    "    resultat = []\n",
    "    for i in range(len(liste1)):\n",
    "        resultat.append(abs(liste1[i] - liste2[i]))\n",
    "\n",
    "    return sum(resultat)\n",
    "\n",
    "def AOC_2():\n",
    "    with open(\"input.txt\", \"r\") as file:\n",
    "        data = file.read()\n",
    "    \n",
    "    liste = data.split(\"\\n\")\n",
    "    liste1 = []\n",
    "    liste2 = []\n",
    "    for i in liste:\n",
    "        liste_tmp = i.split(\" \")\n",
    "        liste1.append(int(liste_tmp[0]))\n",
    "        liste2.append(int(liste_tmp[1]))\n",
    "\n",
    "    resultat = []\n",
    "    occ = 0\n",
    "    for i in range(len(liste1)):\n",
    "        for j in range(len(liste2)):\n",
    "            if liste1[i] == liste2[j]:\n",
    "                occ += 1\n",
    "        resultat.append(liste1[i]*occ)\n",
    "        occ = 0\n",
    "    \n",
    "    return sum(resultat)\n",
    "\n",
    "print(AOC_1())\n",
    "print(AOC_2())"
   ]
  },
  {
   "cell_type": "code",
   "execution_count": null,
   "metadata": {},
   "outputs": [],
   "source": []
  }
 ],
 "metadata": {
  "kernelspec": {
   "display_name": "Python 3",
   "language": "python",
   "name": "python3"
  },
  "language_info": {
   "codemirror_mode": {
    "name": "ipython",
    "version": 3
   },
   "file_extension": ".py",
   "mimetype": "text/x-python",
   "name": "python",
   "nbconvert_exporter": "python",
   "pygments_lexer": "ipython3",
   "version": "3.11.9"
  }
 },
 "nbformat": 4,
 "nbformat_minor": 2
}
